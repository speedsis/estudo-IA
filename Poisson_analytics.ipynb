{
 "cells": [
  {
   "cell_type": "markdown",
   "metadata": {
    "ExecuteTime": {
     "end_time": "2019-10-09T11:23:54.170987Z",
     "start_time": "2019-10-09T11:23:54.167752Z"
    }
   },
   "source": [
    "# How to predict soccer results with the Poisson distribution\n",
    "## A deep dive into the mechanics"
   ]
  },
  {
   "cell_type": "raw",
   "metadata": {},
   "source": [
    "Betting in general and betting games became even more popular in the last years. You can bet everywhere at any time via your pc or your smartphone. Therefore, it is not suprising that a lot of people try to predict results of sport events. For soccer there is a huge market and you are able to bet on nearly every event which can appear in a soccer game like goals, players, cards, corners and so on.\n",
    "The most common bet is called 1x2. You try to predict if there is a win by the home team (1), a draw (x) or a win by the away team (2). People who don´t trust animals like Paul the octupus (https://en.wikipedia.org/wiki/Paul_the_Octopus) are looking for more sophisticated statiscal approaches. I want to share a very basic approach with you. We will have a deeper look how we can use the Poisson distribution in Python. For the basic statistical concept, please have a look at [] and [].\n",
    "In the next parts I will use large parts of a code which was published by David Sheehan in his fantastic blog. I will go deeper into details and I will review the success of the model to answer the questions if the Poisson distribution can be used for betting. "
   ]
  },
  {
   "cell_type": "raw",
   "metadata": {},
   "source": [
    "Before we create models, predict results and check these for correctness, we need some data. So let´s get the last Premier League (PL) season:"
   ]
  },
  {
   "cell_type": "code",
   "execution_count": null,
   "metadata": {
    "ExecuteTime": {
     "end_time": "2019-10-18T14:33:21.065537Z",
     "start_time": "2019-10-18T14:33:13.078446Z"
    }
   },
   "outputs": [],
   "source": [
    "import pandas as pd\n",
    "import matplotlib.pyplot as plt\n",
    "import numpy as np\n",
    "import seaborn\n",
    "from scipy.stats import poisson,skellam\n",
    "\n",
    "epl_1819 = pd.read_csv(\"http://www.football-data.co.uk/mmz4281/1819/E0.csv\")\n",
    "epl_1819 = epl_1819[['HomeTeam','AwayTeam','FTHG','FTAG']]\n",
    "epl_1819 = epl_1819.rename(columns={'FTHG': 'HomeGoals', 'FTAG': 'AwayGoals'})"
   ]
  },
  {
   "cell_type": "raw",
   "metadata": {},
   "source": [
    "20 Teams are playing in the PL, so we remove the last 10 rows and try to predict the results for the last matchday. After we are looking for the average home and away goals."
   ]
  },
  {
   "cell_type": "code",
   "execution_count": null,
   "metadata": {
    "ExecuteTime": {
     "end_time": "2019-10-18T14:33:21.097313Z",
     "start_time": "2019-10-18T14:33:21.069356Z"
    },
    "scrolled": false
   },
   "outputs": [],
   "source": [
    "epl_1819_master = epl_1819\n",
    "epl_1819_test = epl_1819[-10:]\n",
    "epl_1819 = epl_1819[:-10]\n",
    "epl_1819.mean()"
   ]
  },
  {
   "cell_type": "raw",
   "metadata": {},
   "source": [
    "For soccer fans this result is not suprising. The home teams score more goals in average than the away teams. "
   ]
  },
  {
   "cell_type": "code",
   "execution_count": null,
   "metadata": {
    "ExecuteTime": {
     "end_time": "2019-10-18T14:33:21.111263Z",
     "start_time": "2019-10-18T14:33:21.099277Z"
    }
   },
   "outputs": [],
   "source": [
    "epl_1819[['HomeGoals','AwayGoals']].max()"
   ]
  },
  {
   "cell_type": "raw",
   "metadata": {},
   "source": [
    "The highest amount of goals by one team in a single match was 6. Basically we have now all required parameter for our Poisson distribution. In a first step we can predict the probability that the home team scores 1 goal for example:"
   ]
  },
  {
   "cell_type": "code",
   "execution_count": null,
   "metadata": {
    "ExecuteTime": {
     "end_time": "2019-10-18T14:33:21.129196Z",
     "start_time": "2019-10-18T14:33:21.118223Z"
    }
   },
   "outputs": [],
   "source": [
    "poisson.pmf(1,1.575676)"
   ]
  },
  {
   "cell_type": "raw",
   "metadata": {},
   "source": [
    "The chance that the home teams scores 1 goal is 32,6%. Let´s visualize the values for an amount of goals between 0 and 8 and for the home and away side:"
   ]
  },
  {
   "cell_type": "code",
   "execution_count": null,
   "metadata": {
    "ExecuteTime": {
     "end_time": "2019-10-18T15:52:54.153105Z",
     "start_time": "2019-10-18T15:52:52.266167Z"
    },
    "scrolled": false
   },
   "outputs": [],
   "source": [
    "import plotly.graph_objects as go\n",
    "\n",
    "#Y-Axis ticks for the line\n",
    "goals=['0','1','2','3','4','5','6','7','8']\n",
    "\n",
    "#Poisson predictions as percentage\n",
    "probs_goals = [[poisson.pmf(i, epl_1819.mean()[j]) for i in range(epl_1819['HomeGoals'].max()+3)] for j in range(2)]\n",
    "probs_home_new = [i*100 for i in probs_goals[0]]\n",
    "probs_away_new = [i*100 for i in probs_goals[1]]\n",
    "\n",
    "fig = go.Figure()\n",
    "fig.add_trace(go.Histogram(\n",
    "    x=epl_1819['HomeGoals'],\n",
    "    histnorm='percent',\n",
    "    name='Home',\n",
    "    marker_color='#EB89B5',\n",
    "    opacity=0.50\n",
    "))\n",
    "fig.add_trace(go.Histogram(\n",
    "    x=epl_1819['AwayGoals'],\n",
    "    histnorm='percent',\n",
    "    name='Away',\n",
    "    marker_color='#330C73',\n",
    "    opacity=0.50\n",
    "))\n",
    "\n",
    "fig.add_trace(go.Scatter(x=goals, y=probs_home_new,\n",
    "                    mode='lines+markers',\n",
    "                    line = dict(color='#EB89B5', width=4, dash='dash'),\n",
    "                    name='Home Poisson', ))\n",
    "\n",
    "fig.add_trace(go.Scatter(x=goals, y=probs_away_new,\n",
    "                    mode='lines+markers',\n",
    "                    line = dict(color='#330C73', width=4, dash='dash'),\n",
    "                    name='Away Poisson'))\n",
    "\n",
    "fig.update_layout(title='Real number of goals per match vs Poisson prediction (Premier League 2018/19)',\n",
    "                   xaxis_title='Goals',\n",
    "                   yaxis_title='Share in %',\n",
    "                  barmode='group')\n",
    "#fig.show()"
   ]
  },
  {
   "cell_type": "raw",
   "metadata": {},
   "source": [
    "The bars show the real amount of goals in the season 2018/19. The lines show our Poisson calculated values which seem to fit the real distribution pretty well."
   ]
  },
  {
   "cell_type": "markdown",
   "metadata": {},
   "source": [
    "## Predict a match of the Premier League"
   ]
  },
  {
   "cell_type": "raw",
   "metadata": {},
   "source": [
    "We saw that the calculated amount of goals in average fits the real distribution. But how can we predict the amount of goals for a match between Liverpool and Chelsea? The answer is a Poission Regression:"
   ]
  },
  {
   "cell_type": "code",
   "execution_count": null,
   "metadata": {
    "ExecuteTime": {
     "end_time": "2019-10-18T15:54:28.352681Z",
     "start_time": "2019-10-18T15:54:21.326469Z"
    },
    "scrolled": false
   },
   "outputs": [],
   "source": [
    "import statsmodels.api as sm\n",
    "import statsmodels.formula.api as smf\n",
    "\n",
    "goal_model_data = pd.concat([epl_1819[['HomeTeam','AwayTeam','HomeGoals']].assign(home=1).rename(\n",
    "            columns={'HomeTeam':'team', 'AwayTeam':'opponent','HomeGoals':'goals'}),\n",
    "           epl_1819[['AwayTeam','HomeTeam','AwayGoals']].assign(home=0).rename(\n",
    "            columns={'AwayTeam':'team', 'HomeTeam':'opponent','AwayGoals':'goals'})])\n",
    "\n",
    "poisson_model = smf.glm(formula=\"goals ~ home + team + opponent\", data=goal_model_data, \n",
    "                        family=sm.families.Poisson()).fit()\n",
    "#poisson_model.summary()"
   ]
  },
  {
   "cell_type": "raw",
   "metadata": {},
   "source": [
    "We will focus on the main aspects of this regression. The number of observations is 740 (37 matchdays for 20 teams). In the first line we see an entry named \"Intercept\". This is the baseline rate and all other eastimations are relative to it. The team coefficient for Liverpool is 0.1849 which means that Liverpool scores more goals than average teams. The lower the coefficient, the fewer goals a team shoots on average.\n",
    "The opponent coefficient for Chelsea is -0.2537. Chelsea receives less goals than an average team. The lower the coefficient, the fewer goals a teams receives on average. The last row \"home 0.2526\" is the expression of home advantage: home teams score more goals in average.\n",
    "To calculate the estimated amount of goals for Liverpool we use the following formula:"
   ]
  },
  {
   "cell_type": "raw",
   "metadata": {},
   "source": [
    "exp(Intercept+Coefficients)"
   ]
  },
  {
   "cell_type": "raw",
   "metadata": {},
   "source": [
    "So let´s fill our formula for a) Liverpool and b) Chelsea:"
   ]
  },
  {
   "cell_type": "code",
   "execution_count": null,
   "metadata": {
    "ExecuteTime": {
     "end_time": "2019-10-18T14:33:28.463898Z",
     "start_time": "2019-10-18T14:33:28.452928Z"
    }
   },
   "outputs": [],
   "source": [
    "liverpool_home_goals = 2.718**(0.4925+0.1849-0.2537+0.2526)\n",
    "chelsea_away_goals = 2.718**(0.4925-0.1249-0.8112)\n",
    "display(liverpool_home_goals)\n",
    "display(chelsea_away_goals)"
   ]
  },
  {
   "cell_type": "raw",
   "metadata": {},
   "source": [
    "Notice that we add the \"home\"-coeffienct (0.2526) just for Liverpool. The prediction would be 2:1, so we expect Liverpool to win. Now let´s compare our prediction with the last matchday:"
   ]
  },
  {
   "cell_type": "markdown",
   "metadata": {},
   "source": [
    "## Testing the last matchday"
   ]
  },
  {
   "cell_type": "code",
   "execution_count": null,
   "metadata": {
    "ExecuteTime": {
     "end_time": "2019-10-18T14:33:28.496810Z",
     "start_time": "2019-10-18T14:33:28.466893Z"
    }
   },
   "outputs": [],
   "source": [
    "epl_1819_test = epl_1819_test.reset_index()"
   ]
  },
  {
   "cell_type": "code",
   "execution_count": null,
   "metadata": {
    "ExecuteTime": {
     "end_time": "2019-10-18T14:33:28.513768Z",
     "start_time": "2019-10-18T14:33:28.500800Z"
    }
   },
   "outputs": [],
   "source": [
    "def simulate_match(foot_model, homeTeam, awayTeam, max_goals=10):\n",
    "    home_goals_avg = foot_model.predict(pd.DataFrame(data={'team': homeTeam, \n",
    "                                                            'opponent': awayTeam,'home':1},\n",
    "                                                      index=[1])).values[0]\n",
    "    away_goals_avg = foot_model.predict(pd.DataFrame(data={'team': awayTeam, \n",
    "                                                            'opponent': homeTeam,'home':0},\n",
    "                                                      index=[1])).values[0]\n",
    "    team_pred = [[poisson.pmf(i, team_avg) for i in range(0, max_goals+1)] for team_avg in [home_goals_avg, away_goals_avg]]\n",
    "    return(np.outer(np.array(team_pred[0]), np.array(team_pred[1])))\n"
   ]
  },
  {
   "cell_type": "code",
   "execution_count": null,
   "metadata": {
    "ExecuteTime": {
     "end_time": "2019-10-18T14:33:28.690358Z",
     "start_time": "2019-10-18T14:33:28.517763Z"
    }
   },
   "outputs": [],
   "source": [
    "from numpy import unravel_index\n",
    "\n",
    "home_match = []\n",
    "away_match = []\n",
    "home_goals = []\n",
    "away_goals = []\n",
    "pred_list_home = []\n",
    "pred_list_away = []\n",
    "\n",
    "for n in range(0,len(epl_1819_test['HomeTeam'])):\n",
    "\n",
    "    a = simulate_match(poisson_model, epl_1819_test['HomeTeam'].loc[n], epl_1819_test['AwayTeam'].loc[n], max_goals=7)\n",
    "    b = unravel_index(a.argmax(), a.shape)\n",
    "    \n",
    "    home_match.append(epl_1819_test['HomeTeam'].loc[n])\n",
    "    away_match.append(epl_1819_test['AwayTeam'].loc[n])\n",
    "    home_goals.append(epl_1819_test['HomeGoals'].loc[n])\n",
    "    away_goals.append(epl_1819_test['AwayGoals'].loc[n])\n",
    "    pred_list_home.append(b[0])\n",
    "    pred_list_away.append(b[1])\n",
    "    \n",
    "    #pred_list_home.append(result)\n",
    "    #pred_list_away.append(result2)\n",
    "\n",
    "final_df = pd.DataFrame({'Home': home_match, 'Away': away_match,\n",
    "                         'Home Goals': home_goals, 'Away Goals': away_goals,\n",
    "                         'Home Prediction': pred_list_home, 'Away Prediction': pred_list_away})"
   ]
  },
  {
   "cell_type": "code",
   "execution_count": null,
   "metadata": {
    "ExecuteTime": {
     "end_time": "2019-10-18T14:33:28.705284Z",
     "start_time": "2019-10-18T14:33:28.692329Z"
    }
   },
   "outputs": [],
   "source": [
    "def transform_df(mod_df):\n",
    "    mod_df.loc[(mod_df['Home Goals'] > mod_df['Away Goals']), '1x2'] = '1'\n",
    "    mod_df.loc[(mod_df['Home Goals'] == mod_df['Away Goals']), '1x2'] = 'X'\n",
    "    mod_df.loc[(mod_df['Home Goals'] < mod_df['Away Goals']), '1x2'] = '2'\n",
    "    \n",
    "    mod_df['Home Prediction Int'] = mod_df['Home Prediction'].round(0).astype(int)\n",
    "    mod_df['Away Prediction Int'] = mod_df['Away Prediction'].round(0).astype(int)\n",
    "    mod_df.loc[(mod_df['Home Prediction Int'] > mod_df['Away Prediction Int']), '1x2_Pred'] = '1'\n",
    "    mod_df.loc[(mod_df['Home Prediction Int'] == mod_df['Away Prediction Int']), '1x2_Pred'] = 'X'\n",
    "    mod_df.loc[(mod_df['Home Prediction Int'] < mod_df['Away Prediction Int']), '1x2_Pred'] = '2'\n",
    "    \n",
    "    mod_df['Exact_Res'] = 'NO'\n",
    "    mod_df.loc[(mod_df['Home Goals'] == mod_df['Home Prediction Int']) & \n",
    "               (mod_df['Away Goals'] == mod_df['Away Prediction Int']), 'Exact_Res'] = 'YES'\n",
    "    \n",
    "    mod_df.loc[mod_df['1x2'] == mod_df['1x2_Pred'], 'Match'] = 'Yes'\n",
    "    mod_df.loc[mod_df['1x2'] != mod_df['1x2_Pred'], 'Match'] = 'No'\n",
    "    return mod_df"
   ]
  },
  {
   "cell_type": "code",
   "execution_count": null,
   "metadata": {
    "ExecuteTime": {
     "end_time": "2019-10-18T14:33:28.774104Z",
     "start_time": "2019-10-18T14:33:28.708244Z"
    },
    "scrolled": false
   },
   "outputs": [],
   "source": [
    "transform_df(final_df)"
   ]
  },
  {
   "cell_type": "code",
   "execution_count": null,
   "metadata": {
    "ExecuteTime": {
     "end_time": "2019-10-18T14:33:28.787037Z",
     "start_time": "2019-10-18T14:33:28.777064Z"
    }
   },
   "outputs": [],
   "source": [
    "final_df.loc[final_df['1x2'] == final_df['1x2_Pred'], 'Match'] = 'Yes'\n",
    "final_df.loc[final_df['1x2'] != final_df['1x2_Pred'], 'Match'] = 'No'"
   ]
  },
  {
   "cell_type": "code",
   "execution_count": null,
   "metadata": {
    "ExecuteTime": {
     "end_time": "2019-10-18T14:33:28.799003Z",
     "start_time": "2019-10-18T14:33:28.790062Z"
    }
   },
   "outputs": [],
   "source": [
    "final_df.columns"
   ]
  },
  {
   "cell_type": "code",
   "execution_count": null,
   "metadata": {
    "ExecuteTime": {
     "end_time": "2019-10-18T14:33:28.810008Z",
     "start_time": "2019-10-18T14:33:28.801994Z"
    }
   },
   "outputs": [],
   "source": [
    "final_df_s = final_df[['Home', 'Away', 'Home Goals', 'Away Goals', 'Home Prediction',\n",
    "       'Away Prediction', '1x2',\n",
    "       '1x2_Pred', 'Match']]"
   ]
  },
  {
   "cell_type": "code",
   "execution_count": null,
   "metadata": {
    "ExecuteTime": {
     "end_time": "2019-10-18T14:33:28.830918Z",
     "start_time": "2019-10-18T14:33:28.812996Z"
    },
    "scrolled": true
   },
   "outputs": [],
   "source": [
    "final_df_s"
   ]
  },
  {
   "cell_type": "code",
   "execution_count": null,
   "metadata": {
    "ExecuteTime": {
     "end_time": "2019-10-18T14:33:28.844879Z",
     "start_time": "2019-10-18T14:33:28.834905Z"
    },
    "scrolled": true
   },
   "outputs": [],
   "source": [
    "final_df.groupby('Match')['Match'].count()"
   ]
  },
  {
   "cell_type": "raw",
   "metadata": {},
   "source": [
    "Okay, we predicted half of the match correct and half of the match wrong. For such an easy model, it isn´t bad or? But we just predicted one single match and it was the last matchday which should be less predictable. Some teams can´t change their position on the last matchday and therefore they have nothing to lose which results in weaker performances. In a next step we take a look at the top five european leagues (regarding to the uefa-coefficient) and predict the last 10 matchdays for each."
   ]
  },
  {
   "cell_type": "markdown",
   "metadata": {
    "ExecuteTime": {
     "end_time": "2019-10-13T20:14:13.535949Z",
     "start_time": "2019-10-13T20:14:13.530962Z"
    }
   },
   "source": [
    "## Test for all 5 top leagues"
   ]
  },
  {
   "cell_type": "code",
   "execution_count": null,
   "metadata": {
    "ExecuteTime": {
     "end_time": "2019-10-18T14:33:28.870824Z",
     "start_time": "2019-10-18T14:33:28.858847Z"
    }
   },
   "outputs": [],
   "source": [
    "def loading_dfs(leagues,league_dfs,years):\n",
    "    league_df = pd.DataFrame()\n",
    "    for n in range(0,len(leagues)):\n",
    "        league_dfs[n] = pd.read_csv(\"http://www.football-data.co.uk/mmz4281/{}{}/{}.csv\".format(year, year+1,leagues[n]))\n",
    "        league_dfs[n] = league_dfs[n][['Div','HomeTeam','AwayTeam','FTHG','FTAG']]\n",
    "        league_dfs[n] = league_dfs[n].rename(columns={'FTHG': 'HomeGoals', 'FTAG': 'AwayGoals'})\n",
    "        league_dfs_test[n] = league_dfs[n][-100:]\n",
    "        league_dfs_test[n] = league_dfs_test[n].reset_index()\n",
    "        league_dfs[n] = league_dfs[n][:-100]\n",
    "    return league_dfs, league_dfs_test\n",
    "\n",
    "def modelling_dfs(league_df):\n",
    "    psn_modells = []\n",
    "    for n in range(0,len(league_df[0])):\n",
    "        import statsmodels.api as sm\n",
    "        import statsmodels.formula.api as smf\n",
    "\n",
    "        goal_model_data = pd.concat([league_df[0][n][['HomeTeam','AwayTeam','HomeGoals']].assign(home=1).rename(\n",
    "                    columns={'HomeTeam':'team', 'AwayTeam':'opponent','HomeGoals':'goals'}),\n",
    "                   league_df[0][n][['AwayTeam','HomeTeam','AwayGoals']].assign(home=0).rename(\n",
    "                    columns={'AwayTeam':'team', 'HomeTeam':'opponent','AwayGoals':'goals'})])\n",
    "\n",
    "        poisson_model = smf.glm(formula=\"goals ~ home + team + opponent\", data=goal_model_data, \n",
    "                                family=sm.families.Poisson()).fit()\n",
    "        psn_modells.append(poisson_model)\n",
    "    return psn_modells\n",
    "\n",
    "def transform_df(mod_df):\n",
    "    mod_df.loc[(mod_df['Home Goals'] > mod_df['Away Goals']), '1x2'] = '1'\n",
    "    mod_df.loc[(mod_df['Home Goals'] == mod_df['Away Goals']), '1x2'] = 'X'\n",
    "    mod_df.loc[(mod_df['Home Goals'] < mod_df['Away Goals']), '1x2'] = '2'\n",
    "    \n",
    "    mod_df['Home Prediction Int'] = mod_df['Home Prediction'].round(0).astype(int)\n",
    "    mod_df['Away Prediction Int'] = mod_df['Away Prediction'].round(0).astype(int)\n",
    "    mod_df.loc[(mod_df['Home Prediction Int'] > mod_df['Away Prediction Int']), '1x2_Pred'] = '1'\n",
    "    mod_df.loc[(mod_df['Home Prediction Int'] == mod_df['Away Prediction Int']), '1x2_Pred'] = 'X'\n",
    "    mod_df.loc[(mod_df['Home Prediction Int'] < mod_df['Away Prediction Int']), '1x2_Pred'] = '2'\n",
    "    \n",
    "    mod_df['Exact_Res'] = 'NO'\n",
    "    mod_df.loc[(mod_df['Home Goals'] == mod_df['Home Prediction Int']) & \n",
    "               (mod_df['Away Goals'] == mod_df['Away Prediction Int']), 'Exact_Res'] = 'YES'\n",
    "    \n",
    "    mod_df.loc[mod_df['1x2'] == mod_df['1x2_Pred'], 'Match'] = 'Yes'\n",
    "    mod_df.loc[mod_df['1x2'] != mod_df['1x2_Pred'], 'Match'] = 'No'\n",
    "    return mod_df\n",
    "\n",
    "def predicting_dfs(league_df,psn_modells):\n",
    "    prediction_dfs = []\n",
    "    for k in range(0,len(league_df[0])):        \n",
    "        from numpy import unravel_index\n",
    "\n",
    "        home_match = []\n",
    "        away_match = []\n",
    "        home_goals = []\n",
    "        away_goals = []\n",
    "        pred_list_home = []\n",
    "        pred_list_away = []\n",
    "\n",
    "        for n in range(0,len(league_df[1][k]['HomeTeam'])):\n",
    "\n",
    "            a = simulate_match(psn_modells[k], league_df[1][k]['HomeTeam'].loc[n], league_df[1][k]['AwayTeam'].loc[n], max_goals=7)\n",
    "            b = unravel_index(a.argmax(), a.shape)\n",
    "\n",
    "            home_match.append(league_df[1][k]['HomeTeam'].loc[n])\n",
    "            away_match.append(league_df[1][k]['AwayTeam'].loc[n])\n",
    "            home_goals.append(league_df[1][k]['HomeGoals'].loc[n])\n",
    "            away_goals.append(league_df[1][k]['AwayGoals'].loc[n])\n",
    "            pred_list_home.append(b[0])\n",
    "            pred_list_away.append(b[1])\n",
    "\n",
    "        final_df = pd.DataFrame({'Home': home_match, 'Away': away_match,\n",
    "                                 'Home Goals': home_goals, 'Away Goals': away_goals,\n",
    "                                 'Home Prediction': pred_list_home, 'Away Prediction': pred_list_away})\n",
    "        \n",
    "        final_df = transform_df(final_df)\n",
    "        \n",
    "        prediction_dfs.append(final_df)\n",
    "        \n",
    "    return prediction_dfs"
   ]
  },
  {
   "cell_type": "code",
   "execution_count": null,
   "metadata": {
    "ExecuteTime": {
     "end_time": "2019-10-18T14:33:29.527792Z",
     "start_time": "2019-10-18T14:33:28.879821Z"
    },
    "scrolled": false
   },
   "outputs": [],
   "source": [
    "leagues = ['E0','SP1','D1','I1','F1']\n",
    "league_dfs = ['E0_df','SP1_df','D1_df','I1_df','F1_df']\n",
    "league_dfs_test = ['E0_df_test','SP1_df_test','D1_df_test','I1_df_test','F1_df_test']\n",
    "year = 18\n",
    "\n",
    "league_df = loading_dfs(leagues,league_dfs,year)"
   ]
  },
  {
   "cell_type": "code",
   "execution_count": null,
   "metadata": {
    "ExecuteTime": {
     "end_time": "2019-10-18T14:33:29.740064Z",
     "start_time": "2019-10-18T14:33:29.553564Z"
    }
   },
   "outputs": [],
   "source": [
    "psn_modells = modelling_dfs(league_df)"
   ]
  },
  {
   "cell_type": "code",
   "execution_count": null,
   "metadata": {
    "ExecuteTime": {
     "end_time": "2019-10-18T14:33:36.730398Z",
     "start_time": "2019-10-18T14:33:29.768989Z"
    },
    "scrolled": true
   },
   "outputs": [],
   "source": [
    "predicting_dfs = predicting_dfs(league_df,psn_modells)"
   ]
  },
  {
   "cell_type": "code",
   "execution_count": null,
   "metadata": {
    "ExecuteTime": {
     "end_time": "2019-10-18T14:33:36.755308Z",
     "start_time": "2019-10-18T14:33:36.734341Z"
    }
   },
   "outputs": [],
   "source": [
    "correct_pl = predicting_dfs[0].groupby('Match')['Match'].count()[1]\n",
    "correct_sp = predicting_dfs[1].groupby('Match')['Match'].count()[1]\n",
    "correct_ger = predicting_dfs[2].groupby('Match')['Match'].count()[1]\n",
    "correct_it = predicting_dfs[3].groupby('Match')['Match'].count()[1]\n",
    "correct_fr = predicting_dfs[4].groupby('Match')['Match'].count()[1]\n",
    "incorrect_pl = predicting_dfs[0].groupby('Match')['Match'].count()[0]\n",
    "incorrect_sp = predicting_dfs[1].groupby('Match')['Match'].count()[0]\n",
    "incorrect_ger = predicting_dfs[2].groupby('Match')['Match'].count()[0]\n",
    "incorrect_it = predicting_dfs[3].groupby('Match')['Match'].count()[0]\n",
    "incorrect_fr = predicting_dfs[4].groupby('Match')['Match'].count()[0]"
   ]
  },
  {
   "cell_type": "code",
   "execution_count": null,
   "metadata": {
    "ExecuteTime": {
     "end_time": "2019-10-18T14:33:36.764265Z",
     "start_time": "2019-10-18T14:33:36.758278Z"
    }
   },
   "outputs": [],
   "source": [
    "yes = correct_pl + correct_sp + correct_ger + correct_it + correct_fr\n",
    "no = incorrect_pl + incorrect_sp + incorrect_ger + incorrect_it + incorrect_fr"
   ]
  },
  {
   "cell_type": "code",
   "execution_count": null,
   "metadata": {
    "ExecuteTime": {
     "end_time": "2019-10-18T14:33:36.775231Z",
     "start_time": "2019-10-18T14:33:36.767261Z"
    }
   },
   "outputs": [],
   "source": [
    "round((yes/(yes+no)*100),2)"
   ]
  },
  {
   "cell_type": "code",
   "execution_count": null,
   "metadata": {
    "ExecuteTime": {
     "end_time": "2019-10-18T14:33:36.911877Z",
     "start_time": "2019-10-18T14:33:36.777225Z"
    }
   },
   "outputs": [],
   "source": [
    "league_dic = ['England','Spain','Germany','Italy','France']\n",
    "league = []\n",
    "wins_per_matchday = []\n",
    "lose_per_matchday = []\n",
    "matchday = []\n",
    "\n",
    "for k in range(0,len(league_dic)):\n",
    "    for n in range(0,100,10):\n",
    "        matchday.append((n+10)/10)\n",
    "        league.append(league_dic[k])\n",
    "        wins_per_matchday.append(predicting_dfs[k][0+n:10+n].groupby('Match')['Match'].count()[1])\n",
    "        lose_per_matchday.append(predicting_dfs[k][0+n:10+n].groupby('Match')['Match'].count()[0])\n",
    "        \n",
    "df_vis = pd.DataFrame({'League': league, 'Wins': wins_per_matchday, 'Loses': lose_per_matchday, 'Matchday': matchday})"
   ]
  },
  {
   "cell_type": "code",
   "execution_count": null,
   "metadata": {
    "ExecuteTime": {
     "end_time": "2019-10-18T14:33:36.925830Z",
     "start_time": "2019-10-18T14:33:36.913860Z"
    }
   },
   "outputs": [],
   "source": [
    "bla = pd.DataFrame(df_vis.groupby(['League','Matchday'])['Wins'].sum()).reset_index()"
   ]
  },
  {
   "cell_type": "code",
   "execution_count": null,
   "metadata": {
    "ExecuteTime": {
     "end_time": "2019-10-18T14:33:36.938828Z",
     "start_time": "2019-10-18T14:33:36.928819Z"
    }
   },
   "outputs": [],
   "source": [
    "bla2 = bla.groupby('Matchday').sum().reset_index()"
   ]
  },
  {
   "cell_type": "code",
   "execution_count": null,
   "metadata": {
    "ExecuteTime": {
     "end_time": "2019-10-18T15:53:01.184257Z",
     "start_time": "2019-10-18T15:52:56.098890Z"
    }
   },
   "outputs": [],
   "source": [
    "import plotly.express as px\n",
    "league_dic = ['England','Spain','Germany','Italy','France']\n",
    "\n",
    "fig = go.Figure()\n",
    "\n",
    "fig = go.Figure(data=[\n",
    "    go.Bar(name='England', x=bla['Matchday'], y=bla.loc[bla['League'] == 'England']['Wins'],marker_color='#330C73',\n",
    "    opacity=0.20),\n",
    "    go.Bar(name='Spain', x=bla['Matchday'], y=bla.loc[bla['League'] == 'Spain']['Wins'],marker_color='#330C73',\n",
    "    opacity=0.40),\n",
    "    go.Bar(name='Germany', x=bla['Matchday'], y=bla.loc[bla['League'] == 'Germany']['Wins'],marker_color='#330C73',\n",
    "    opacity=0.60),\n",
    "    go.Bar(name='Italy', x=bla['Matchday'], y=bla.loc[bla['League'] == 'Italy']['Wins'],marker_color='#330C73',\n",
    "    opacity=0.80),\n",
    "    go.Bar(name='France', x=bla['Matchday'], y=bla.loc[bla['League'] == 'France']['Wins'],marker_color='#330C73',\n",
    "    opacity=1.00)\n",
    "])\n",
    "\n",
    "\n",
    "fig.add_trace(go.Scatter(x=bla2['Matchday'], y=bla2['Wins']/5,\n",
    "                    mode='lines',\n",
    "                         line = dict(color='Orange', width=4),\n",
    "                    name='Average'))\n",
    "\n",
    "fig.update_layout(title='Correct predicted matches out of 10 per matchday',\n",
    "                   xaxis_title='-- Matchday ->',\n",
    "                   yaxis_title='Correct predicted matches',\n",
    "                  barmode='group')\n",
    "#fig.show()"
   ]
  }
 ],
 "metadata": {
  "hide_input": false,
  "kernelspec": {
   "display_name": "Python 3",
   "language": "python",
   "name": "python3"
  },
  "language_info": {
   "codemirror_mode": {
    "name": "ipython",
    "version": 3
   },
   "file_extension": ".py",
   "mimetype": "text/x-python",
   "name": "python",
   "nbconvert_exporter": "python",
   "pygments_lexer": "ipython3",
   "version": "3.7.1"
  },
  "varInspector": {
   "cols": {
    "lenName": 16,
    "lenType": 16,
    "lenVar": 40
   },
   "kernels_config": {
    "python": {
     "delete_cmd_postfix": "",
     "delete_cmd_prefix": "del ",
     "library": "var_list.py",
     "varRefreshCmd": "print(var_dic_list())"
    },
    "r": {
     "delete_cmd_postfix": ") ",
     "delete_cmd_prefix": "rm(",
     "library": "var_list.r",
     "varRefreshCmd": "cat(var_dic_list()) "
    }
   },
   "types_to_exclude": [
    "module",
    "function",
    "builtin_function_or_method",
    "instance",
    "_Feature"
   ],
   "window_display": false
  }
 },
 "nbformat": 4,
 "nbformat_minor": 2
}
